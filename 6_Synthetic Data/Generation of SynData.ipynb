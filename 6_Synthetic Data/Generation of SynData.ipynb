{
 "cells": [
  {
   "cell_type": "code",
   "execution_count": 1,
   "id": "f6a85b73",
   "metadata": {},
   "outputs": [],
   "source": [
    "import shap\n",
    "import numpy as np\n",
    "import pandas as pd\n",
    "import matplotlib.pyplot as plt\n",
    "from matplotlib.colors import Normalize\n",
    "from itertools import combinations\n",
    "import seaborn as sns\n",
    "from sklearn import metrics\n",
    "from sklearn import preprocessing \n",
    "from sklearn.model_selection import train_test_split\n",
    "from sklearn.metrics import make_scorer\n",
    "from sklearn.ensemble import RandomForestRegressor\n",
    "from sklearn.ensemble import GradientBoostingRegressor\n",
    "from sklearn.svm import SVR\n",
    "from xgboost.sklearn import XGBRegressor\n",
    "from sklearn.preprocessing import PolynomialFeatures\n",
    "from sklearn.linear_model import LinearRegression\n",
    "from sklearn.metrics import mean_squared_error\n",
    "from sklearn.metrics import r2_score\n",
    "from sklearn.model_selection import cross_val_score\n",
    "from sklearn.model_selection import LeaveOneOut\n",
    "from sklearn.feature_selection import RFE\n",
    "from bayes_opt import BayesianOptimization\n",
    "from sklearn.inspection import PartialDependenceDisplay\n",
    "from deap import algorithms, base, creator, tools"
   ]
  },
  {
   "cell_type": "code",
   "execution_count": 2,
   "id": "2a9263e8",
   "metadata": {},
   "outputs": [],
   "source": [
    "np.random.seed(42)\n",
    "\n",
    "data = np.random.rand(1000, 3)\n",
    "A = data[:, 0]\n",
    "B = data[:, 1]\n",
    "C = data[:, 2]\n",
    "\n",
    "a = (1.5 * A)**2\n",
    "\n",
    "b = np.where(B < 0.3, -B, B - 0.6)\n",
    "\n",
    "c = np.where(C < 0.5, (C + 1)**2, 2.75 - C)\n",
    "\n",
    "noise = lambda: np.random.normal(0, 0.1, 1000)\n",
    "\n",
    "T = a + b + c + noise()\n",
    "D = 0.3*(a**2 + b**2) + noise()\n",
    "E = 0.6*(a + c) + noise()\n",
    "F = 0.8*(b + 1)**2 + noise()\n",
    "G = a + 2*b + 3*c + noise()\n",
    "\n",
    "df = pd.DataFrame({\n",
    "    'A': A,\n",
    "    'B': B,\n",
    "    'C': C,\n",
    "    'D': D,\n",
    "    'E': E,\n",
    "    'F': F,\n",
    "    'G': G,\n",
    "    'T': T})"
   ]
  }
 ],
 "metadata": {
  "kernelspec": {
   "display_name": "Python 3 (ipykernel)",
   "language": "python",
   "name": "python3"
  },
  "language_info": {
   "codemirror_mode": {
    "name": "ipython",
    "version": 3
   },
   "file_extension": ".py",
   "mimetype": "text/x-python",
   "name": "python",
   "nbconvert_exporter": "python",
   "pygments_lexer": "ipython3",
   "version": "3.11.3"
  }
 },
 "nbformat": 4,
 "nbformat_minor": 5
}
